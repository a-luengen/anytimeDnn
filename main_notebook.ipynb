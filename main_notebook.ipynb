{
 "cells": [
  {
   "cell_type": "code",
   "execution_count": 1,
   "metadata": {
    "tags": []
   },
   "outputs": [
    {
     "output_type": "stream",
     "name": "stdout",
     "text": "Using CPU for slow training process\n"
    }
   ],
   "source": [
    "import torch\n",
    "import torch.nn as nn\n",
    "from torch.utils.data import DataLoader\n",
    "from data.ImagenetDataset import get_imagenet_datasets\n",
    "from msdnet.dataloader import get_dataloaders_alt\n",
    "from resnet import ResNet\n",
    "from densenet import *\n",
    "#from msdnet.models.msdnet import MSDNet\n",
    "\n",
    "import os\n",
    "import shutil\n",
    "import time\n",
    "\n",
    "DATA_PATH = \"data/imagenet_images\"\n",
    "BATCH_SIZE = 2\n",
    "\n",
    "\n",
    "LEARNING_RATE = 0.1\n",
    "MOMENTUM = 0.9\n",
    "WEIGHT_DECAY = 1e-4\n",
    "GPU_ID = None\n",
    "START_EPOCH = 0\n",
    "EPOCHS = 2\n",
    "CHECKPOINT_INTERVALL = 10\n",
    "CHECKPOINT_DIR = 'state'\n",
    "ARCH = 'densenet'\n",
    "\n",
    "if __name__ == \"__main__\":\n",
    "\n",
    "\n",
    "    train_loader, test_loader, _ = get_dataloaders_alt(\n",
    "        DATA_PATH, \n",
    "        data=\"ImageNet\", \n",
    "        use_valid=False, \n",
    "        save='save/default-{}'.format(time.time()),\n",
    "        batch_size=1, \n",
    "        workers=1, \n",
    "        splits=['train', 'test'])\n",
    "    \n",
    "    # create model \n",
    "    model = ResNet.resnet50()\n",
    "    \n",
    "    \n",
    "    if not torch.cuda.is_available():\n",
    "        print(\"Using CPU for slow training process\")\n",
    "    else:\n",
    "        model = nn.DataParallel(model).cuda()\n",
    "    \n",
    "    # loss function (criterion) and optimizer\n",
    "    criterion = nn.CrossEntropyLoss()\n",
    "    \n",
    "    optimizer = torch.optim.SGD(\n",
    "        model.parameters(), \n",
    "        LEARNING_RATE, \n",
    "        momentum=MOMENTUM, \n",
    "        weight_decay=WEIGHT_DECAY)\n",
    "    \n",
    "    # TODO add loading of checkpoint behaviour"
   ]
  },
  {
   "cell_type": "code",
   "execution_count": 2,
   "metadata": {},
   "outputs": [],
   "source": [
    "def save_checkpoint(data, is_best, filename='checkpoint.pth.tar'):\n",
    "    file_path = os.path.join(CHECKPOINT_DIR, filename)\n",
    "    \n",
    "    if not os.path.isDir(CHECKPOINT_DIR):\n",
    "        os.path.mkdir(CHECKPOINT_DIR)\n",
    "    \n",
    "    torch.save(state, filename)\n",
    "    if is_best:\n",
    "        shutil.copyfile(filename, 'model_best.pth.tar')"
   ]
  },
  {
   "cell_type": "code",
   "execution_count": 3,
   "metadata": {},
   "outputs": [],
   "source": [
    "def accuracy(output, target, topk=(1,)):\n",
    "    \"\"\"Computes accuracy over the k top predictions for the values of k\"\"\"\n",
    "    \n",
    "    # reduce memory consumption on following calculations\n",
    "    with torch.no_grad():\n",
    "        maxk = max(topk)\n",
    "        batch_size = target.size(0)\n",
    "        \n",
    "        _, pred = output.topk(maxk, 1, True, True)\n",
    "        pred = pred.t()\n",
    "        correct = pred.eq(target.view(1, -1).expand_as(pred))\n",
    "\n",
    "        res = []\n",
    "        for k in topk:\n",
    "            correct_k = correct[:k].view(-1).float().sum(0)\n",
    "            res.append(correct_k.mul_(100.0 / batch_size))\n",
    "        return res\n"
   ]
  },
  {
   "cell_type": "code",
   "execution_count": 4,
   "metadata": {},
   "outputs": [],
   "source": [
    "def adjust_learning_rate(optimizer, epoch):\n",
    "    \"\"\"\n",
    "        Sets learning rate to default value, decayed by division with 10 every 25 epochs and \n",
    "        updates the lr in the optimizer.\n",
    "    \"\"\"\n",
    "    lr = LEARNING_RATE * (0.1 ** (epoch // 25)) \n",
    "    for param_group in optimizer.param_groups:\n",
    "        param_group['lr'] = lr"
   ]
  },
  {
   "cell_type": "code",
   "execution_count": 5,
   "metadata": {},
   "outputs": [],
   "source": [
    "def train(train_loader, model, criterion, optimizer, epoch):\n",
    "    model.train()\n",
    "    \n",
    "    for i, (input, target) in enumerate(train_loader):\n",
    "        \n",
    "        if torch.cuda.is_available():\n",
    "            target = target.cuda(GPU_ID, non_blocking=True)\n",
    "        \n",
    "        # compute output of the current network\n",
    "        output = model(input)\n",
    "        loss = criterion(output, target)\n",
    "        \n",
    "        # measure accuracy and record loss\n",
    "        acc1, acc5 = accuracy(output, target, topk=(1, 5))\n"
   ]
  },
  {
   "cell_type": "code",
   "execution_count": null,
   "metadata": {},
   "outputs": [],
   "source": [
    "# train loop\n",
    "#for epoch in range(START_EPOCH, EPOCHS):\n",
    "for epoch in range(0, 1):\n",
    "    adjust_learning_rate(optimizer, epoch)\n",
    "    \n",
    "    # train for one epoch\n",
    "    train(train_loader, model, criterion, optimizer, epoch)\n",
    "    \n",
    "    #evaluate the network on test set\n",
    "    acc = validate(test_loader, model, criterion)\n",
    "    \n",
    "    # remember top acc\n",
    "    is_best = acc > best_acc\n",
    "    best_acc = max(acc, best_acc)\n",
    "    \n",
    "    # safe model\n",
    "    if epoch % CHECKPOINT_INTERVALL == 0 or is_best:\n",
    "        save_checkpoint({\n",
    "            'epoch': epoch + 1,\n",
    "            'arch': ARCH,\n",
    "            'state_dict': model.state_dict(),\n",
    "            'best_acc': best_acc,\n",
    "            'optimizer': optimizer.state_dict(),\n",
    "        }, is_best)"
   ]
  },
  {
   "cell_type": "code",
   "execution_count": null,
   "metadata": {},
   "outputs": [],
   "source": []
  }
 ],
 "metadata": {
  "kernelspec": {
   "display_name": "Python 3",
   "language": "python",
   "name": "python3"
  },
  "language_info": {
   "codemirror_mode": {
    "name": "ipython",
    "version": 3
   },
   "file_extension": ".py",
   "mimetype": "text/x-python",
   "name": "python",
   "nbconvert_exporter": "python",
   "pygments_lexer": "ipython3",
   "version": "3.6.9-final"
  }
 },
 "nbformat": 4,
 "nbformat_minor": 4
}